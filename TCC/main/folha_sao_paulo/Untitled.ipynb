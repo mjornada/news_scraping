{
 "cells": [
  {
   "cell_type": "code",
   "execution_count": 1,
   "id": "f2ddb3df-9137-4f83-bb4a-15a668e4d565",
   "metadata": {},
   "outputs": [],
   "source": [
    "import pandas as pd"
   ]
  },
  {
   "cell_type": "code",
   "execution_count": 2,
   "id": "fa7f7d8b-cf7a-4083-b188-4f22db2440bb",
   "metadata": {},
   "outputs": [
    {
     "data": {
      "text/html": [
       "<div>\n",
       "<style scoped>\n",
       "    .dataframe tbody tr th:only-of-type {\n",
       "        vertical-align: middle;\n",
       "    }\n",
       "\n",
       "    .dataframe tbody tr th {\n",
       "        vertical-align: top;\n",
       "    }\n",
       "\n",
       "    .dataframe thead th {\n",
       "        text-align: right;\n",
       "    }\n",
       "</style>\n",
       "<table border=\"1\" class=\"dataframe\">\n",
       "  <thead>\n",
       "    <tr style=\"text-align: right;\">\n",
       "      <th></th>\n",
       "      <th>RowNames</th>\n",
       "      <th>Title</th>\n",
       "      <th>URL</th>\n",
       "    </tr>\n",
       "  </thead>\n",
       "  <tbody>\n",
       "    <tr>\n",
       "      <th>0</th>\n",
       "      <td>0</td>\n",
       "      <td>Veja como foram os discursos de candidatos der...</td>\n",
       "      <td>https://www1.folha.uol.com.br/poder/2022/11/ve...</td>\n",
       "    </tr>\n",
       "    <tr>\n",
       "      <th>1</th>\n",
       "      <td>1</td>\n",
       "      <td>Conduta de Bolsonaro após eleição lembra a de ...</td>\n",
       "      <td>https://www1.folha.uol.com.br/poder/2022/11/co...</td>\n",
       "    </tr>\n",
       "    <tr>\n",
       "      <th>2</th>\n",
       "      <td>2</td>\n",
       "      <td>Guedes definiu a eleição a favor de Lula, diz ...</td>\n",
       "      <td>https://www1.folha.uol.com.br/poder/2022/11/gu...</td>\n",
       "    </tr>\n",
       "    <tr>\n",
       "      <th>3</th>\n",
       "      <td>3</td>\n",
       "      <td>Alckmin vai coordenar equipe de transição para...</td>\n",
       "      <td>https://www1.folha.uol.com.br/poder/2022/11/al...</td>\n",
       "    </tr>\n",
       "    <tr>\n",
       "      <th>4</th>\n",
       "      <td>4</td>\n",
       "      <td>Não podemos dar poder a quem quer uma teocraci...</td>\n",
       "      <td>https://www1.folha.uol.com.br/poder/2022/11/na...</td>\n",
       "    </tr>\n",
       "  </tbody>\n",
       "</table>\n",
       "</div>"
      ],
      "text/plain": [
       "   RowNames                                              Title  \\\n",
       "0         0  Veja como foram os discursos de candidatos der...   \n",
       "1         1  Conduta de Bolsonaro após eleição lembra a de ...   \n",
       "2         2  Guedes definiu a eleição a favor de Lula, diz ...   \n",
       "3         3  Alckmin vai coordenar equipe de transição para...   \n",
       "4         4  Não podemos dar poder a quem quer uma teocraci...   \n",
       "\n",
       "                                                 URL  \n",
       "0  https://www1.folha.uol.com.br/poder/2022/11/ve...  \n",
       "1  https://www1.folha.uol.com.br/poder/2022/11/co...  \n",
       "2  https://www1.folha.uol.com.br/poder/2022/11/gu...  \n",
       "3  https://www1.folha.uol.com.br/poder/2022/11/al...  \n",
       "4  https://www1.folha.uol.com.br/poder/2022/11/na...  "
      ]
     },
     "execution_count": 2,
     "metadata": {},
     "output_type": "execute_result"
    }
   ],
   "source": [
    "df = pd.read_csv('folha_sao_paulo.csv', engine='python', sep=';')\n",
    "df.head(5)"
   ]
  },
  {
   "cell_type": "code",
   "execution_count": null,
   "id": "4ee338bb-8298-4da7-9b3d-7ced0705f89c",
   "metadata": {},
   "outputs": [],
   "source": []
  }
 ],
 "metadata": {
  "kernelspec": {
   "display_name": "Python 3 (ipykernel)",
   "language": "python",
   "name": "python3"
  },
  "language_info": {
   "codemirror_mode": {
    "name": "ipython",
    "version": 3
   },
   "file_extension": ".py",
   "mimetype": "text/x-python",
   "name": "python",
   "nbconvert_exporter": "python",
   "pygments_lexer": "ipython3",
   "version": "3.10.6"
  }
 },
 "nbformat": 4,
 "nbformat_minor": 5
}
